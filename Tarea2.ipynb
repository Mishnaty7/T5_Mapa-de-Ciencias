{
 "cells": [
  {
   "cell_type": "markdown",
   "id": "7d535568",
   "metadata": {},
   "source": [
    "TAREA 2\n",
    "\n",
    "Mishelle Culcay\n",
    "\n",
    "Ejercicio 1\n",
    "Basado en las sesiones de Visualización de datos y Expresiones resulares. Realice una adaptación de la solución del MAP OF SCIENCE. Se requiere dos adaptaciones para resolver esta actividad:\n",
    "\n",
    "Buscar bibliografía de un tema de interés propio en la Página Web de PubMed,\n",
    "Realizar el minado de autores por país (en el ejemplo se encuentra realziado por las ciudades de USA).\n",
    "Para asignar las ubicación geográfica de los centroides de cada país (latitud y longitud), utilice la tabla Ubicación Geográfica de Países - Google Developer. Así como en la solución de referencia se señalan varias ciudades seleccionadas de USA.\n",
    "En su resolución señale/resalte a los siguientes países: USA, UK, Brazil, China, Australia, Norway.\n",
    "Cargue su cuaderno de Jupyter en GitHub, asegurandose de lo siguiente:\n",
    "\n",
    "En el documento se puede ver con claridad el Mapa de Ciencia de su tema de interés.\n",
    "La figura tiene etiquetas adecuadas en los ejes de la visualización.\n",
    "Se tiene al menos tres controles de la versión (3 commit con mensajes adecuados sobre la versión)"
   ]
  },
  {
   "cell_type": "code",
   "execution_count": 323,
   "id": "66a1f24d",
   "metadata": {},
   "outputs": [],
   "source": [
    "#Descargar librerias\n",
    "import numpy as np\n",
    "import matplotlib.pyplot as plt\n",
    "import matplotlib.mlab as mlab\n",
    "import math \n",
    "import seaborn as sns\n",
    "import pandas as pd"
   ]
  },
  {
   "cell_type": "code",
   "execution_count": 324,
   "id": "69caa1ba",
   "metadata": {},
   "outputs": [],
   "source": [
    "import re\n",
    "import csv"
   ]
  },
  {
   "cell_type": "code",
   "execution_count": 325,
   "id": "5f5c4140",
   "metadata": {},
   "outputs": [],
   "source": [
    "with open(\"pubmed-coloncance-set.txt\", encoding= 'utf-8') as f:\n",
    "    datos = f.read()"
   ]
  },
  {
   "cell_type": "code",
   "execution_count": 326,
   "id": "b433af46",
   "metadata": {},
   "outputs": [],
   "source": [
    "datos = re.sub(r'\\n\\s{6}', ' ', datos)\n",
    "dat= re.findall (r\"\\,\\s[A-zA-Z]{2,13}\\.\", datos)"
   ]
  },
  {
   "cell_type": "code",
   "execution_count": 327,
   "id": "5345b262",
   "metadata": {},
   "outputs": [],
   "source": [
    "zipcodes = re.findall (r\"\\,\\s[A-zA-Z]{2,13}\\.\", datos)"
   ]
  },
  {
   "cell_type": "code",
   "execution_count": 328,
   "id": "27788ab6",
   "metadata": {},
   "outputs": [],
   "source": [
    "unique_zipcodes = list(set(zipcodes))"
   ]
  },
  {
   "cell_type": "code",
   "execution_count": 329,
   "id": "41f35e32",
   "metadata": {},
   "outputs": [],
   "source": [
    "unique_zipcodes.sort()"
   ]
  },
  {
   "cell_type": "code",
   "execution_count": 330,
   "id": "049c4086",
   "metadata": {},
   "outputs": [
    {
     "name": "stdout",
     "output_type": "stream",
     "text": [
      "[', AL.', ', AZ.', ', Aichi.', ', Argentina.', ', Arizona.', ', Aurora.', ', Australia.', ', Austria.', ', Av.', ', Aviano.', ', Az.', ', Baltimore.', ', Bangladesh.', ', Basel.', ', Belgium.', ', Biella.', ', Boston.', ', Brazil.', ', Brazil].', ', Bulgaria.', ', CA.', ', Calif.', ', California.', ', Canada.', ', Catania.', ', Charleston.', ', Chile.', ', China.', ', Co.', ', Colombia.', ', Colorado.', ', Connecticut.', ', Copenhagen.', ', Cra.', ', Croatia.', ', Cuba.', ', Cyprus.', ', Delaware.', ', Denmark.', ', Denver.', ', Dept.', ', Deutschland.', ', Dr.', ', Dysplasia.', ', Ecuador.', ', Edinburgh.', ', Egypt.', ', Eindhoven.', ', Estonia.', ', FL.', ', Fac.', ', Finland.', ', Florida.', ', France.', ', Franz.', ', Fukuoka.', ', Gainesville.', ', Georgia.', ', Germany.', ', Gifu.', ', Greece.', ', HI.', ', Hawaii.', ', Hiroshima.', ', Hokkaido.', ', Hubei.', ', Hungary.', ', Hyogo.', ', IA.', ', IN.', ', IND.', ', Iceland.', ', Ill.', ', Illinois.', ', Inc.', ', India.', ', Indonesia.', ', Iran.', ', Iraq.', ', Ireland.', ', Islamabad.', ', Israel.', ', Italia.', ', Italy.', ', Japan.', ', Jena.', ', Jl.', ', Jr.', ', KSA.', ', KY.', ', Kagamihara.', ', Kanagawa.', ', Kawasaki.', ', Kenya.', ', Kisarazu.', ', Korea.', ', Kunming.', ', Kuwait.', ', Kyoto.', ', LLC.', ', Lebanon.', ', Liban.', ', Lithuania.', ', London.', ', Lorca.', ', Louisiana.', ', Ltd.', ', MA.', ', MD.', ', MN.', ', MPH.', ', Madison.', ', Malaysia.', ', Manitoba.', ', Maryland.', ', Mass.', ', Massachusetts.', ', Md.', ', Medicum.', ', Mexico.', ', Michigan.', ', Minn.', ', Minnesota.', ', Missouri.', ', Modena.', ', Moorenstr.', ', Morocco.', ', NGA.', ', NH.', ', NO.', ', NY.', ', Nepal.', ', Netherlands.', ', Newark.', ', Nigeria.', ', Niigata.', ', Nijmegen.', ', No.', ', Norway.', ', OH.', ', ON.', ', OR.', ', Ohio.', ', Oman.', ', Ont.', ', Oregon.', ', Osaka.', ', Oslo.', ', PA.', ', PAK.', ', PR.', ', Padova.', ', Pakistan.', ', Parma.', ', Pennsylvania.', ', Petrolina.', ', PhD.', ', Philadelphia.', ', Pittsburgh.', ', Poland.', ', Portugal.', ', Pt.', ', Qatar.', ', RI.', ', ROC.', ', Rimini.', ', Rm.', ', Rochester.', ', Romania.', ', Rome.', ', Russia.', ', SAU.', ', SP.', ', Saitama.', ', Sapporo.', ', Sdr.', ', Serbia.', ', Sergas.', ', Sevilla.', ', Shenyang.', ', Shizuoka.', ', Singapore.', ', Slovenia.', ', Spain.', ', Srbija.', ', St.', ', Sweden.', ', Switzerland.', ', TX.', ', Taiwan.', ', Tampa.', ', Tennessee.', ', Texas.', ', Thailand.', ', Tochigi.', ', Tokyo.', ', Toyoake.', ', Trogerstr.', ', Trondheim.', ', Tunisie.', ', Turkey.', ', UAE.', ', UK.', ', USA.', ', UT.', ', Ukraine.', ', Univ.', ', Uruguay.', ', Utah.', ', VA.', ', Varese.', ', Vermont.', ', Vic.', ', Victoria.', ', Vietnam.', ', Virginia.', ', WA.', ', Waldstr.', ', Washington.', ', Weinheim.', ', Wisconsin.', ', Yulin.', ', age.', ', analyzed.', ', and.', ', etc.', ', function.', ', however.', ', ibs.', ', ie.', ', independently.', ', malczewska.', ', no.', ', prognosis.', ', respectively.', ', respectively].', ', silymarin.', ', studies.', ', tel.', ', ul.', ', unidentified.', ', viz.', ', vs.', ', worldwide.']\n"
     ]
    }
   ],
   "source": [
    "a = unique_zipcodes\n",
    "print(a)"
   ]
  },
  {
   "cell_type": "code",
   "execution_count": 331,
   "id": "48476fec",
   "metadata": {},
   "outputs": [
    {
     "data": {
      "text/plain": [
       "[', Argentina.',\n",
       " ', Arizona.',\n",
       " ', Aurora.',\n",
       " ', Australia.',\n",
       " ', Austria.',\n",
       " ', Aviano.',\n",
       " ', Baltimore.',\n",
       " ', Bangladesh.',\n",
       " ', Basel.',\n",
       " ', Belgium.',\n",
       " ', Biella.',\n",
       " ', Boston.',\n",
       " ', Brazil.',\n",
       " ', Brazil].',\n",
       " ', Bulgaria.',\n",
       " ', California.',\n",
       " ', Canada.',\n",
       " ', Catania.',\n",
       " ', Charleston.',\n",
       " ', Chile.']"
      ]
     },
     "execution_count": 331,
     "metadata": {},
     "output_type": "execute_result"
    }
   ],
   "source": [
    "b = unique_zipcodes\n",
    "b.remove(', AL.')\n",
    "b.remove(', Aichi.')\n",
    "b.remove(', AZ.')\n",
    "b.remove(', Av.')\n",
    "b.remove(', Dept.')\n",
    "b.remove(', Co.')\n",
    "b.remove(', Calif.')\n",
    "b.remove(', OH.')\n",
    "b.remove(', ON.')\n",
    "b.remove(', OR.')\n",
    "b.remove(', RI.')\n",
    "b.remove(', ROC.')\n",
    "b.remove(', Dr.')\n",
    "b.remove(', Az.')\n",
    "b.remove(', CA.')\n",
    "b.remove(', Cra.')\n",
    "unique_zipcodes[:20]"
   ]
  },
  {
   "cell_type": "code",
   "execution_count": 332,
   "id": "e69e557c",
   "metadata": {},
   "outputs": [
    {
     "data": {
      "text/plain": [
       "['Argentina',\n",
       " 'Arizona',\n",
       " 'Aurora',\n",
       " 'Australia',\n",
       " 'Austria',\n",
       " 'Aviano',\n",
       " 'Baltimore',\n",
       " 'Bangladesh',\n",
       " 'Belgium',\n",
       " 'Biella',\n",
       " 'Boston',\n",
       " 'Brazil',\n",
       " 'Brazil]',\n",
       " 'Bulgaria',\n",
       " 'California',\n",
       " 'Canada',\n",
       " 'Catania',\n",
       " 'Charleston',\n",
       " 'Chile',\n",
       " 'China']"
      ]
     },
     "execution_count": 332,
     "metadata": {},
     "output_type": "execute_result"
    }
   ],
   "source": [
    "c = \"\".join(b)\n",
    "d = c.split(\", \")\n",
    "e = \"\".join(d)\n",
    "f = e.split(\".\")\n",
    "f.pop(8)\n",
    "unique_zipcodes = f\n",
    "unique_zipcodes[:20]"
   ]
  },
  {
   "cell_type": "code",
   "execution_count": 333,
   "id": "45135895",
   "metadata": {},
   "outputs": [
    {
     "data": {
      "text/plain": [
       "228"
      ]
     },
     "execution_count": 333,
     "metadata": {},
     "output_type": "execute_result"
    }
   ],
   "source": [
    "len(unique_zipcodes)"
   ]
  },
  {
   "cell_type": "code",
   "execution_count": 344,
   "id": "c7dc8da2",
   "metadata": {
    "scrolled": true
   },
   "outputs": [
    {
     "data": {
      "text/html": [
       "<div>\n",
       "<style scoped>\n",
       "    .dataframe tbody tr th:only-of-type {\n",
       "        vertical-align: middle;\n",
       "    }\n",
       "\n",
       "    .dataframe tbody tr th {\n",
       "        vertical-align: top;\n",
       "    }\n",
       "\n",
       "    .dataframe thead th {\n",
       "        text-align: right;\n",
       "    }\n",
       "</style>\n",
       "<table border=\"1\" class=\"dataframe\">\n",
       "  <thead>\n",
       "    <tr style=\"text-align: right;\">\n",
       "      <th></th>\n",
       "      <th>country</th>\n",
       "      <th>latitude</th>\n",
       "      <th>longitude</th>\n",
       "      <th>name</th>\n",
       "    </tr>\n",
       "  </thead>\n",
       "  <tbody>\n",
       "    <tr>\n",
       "      <th>0</th>\n",
       "      <td>AD</td>\n",
       "      <td>42.546245</td>\n",
       "      <td>1.601554</td>\n",
       "      <td>Andorra</td>\n",
       "    </tr>\n",
       "    <tr>\n",
       "      <th>1</th>\n",
       "      <td>AE</td>\n",
       "      <td>23.424076</td>\n",
       "      <td>53.847818</td>\n",
       "      <td>United Arab Emirates</td>\n",
       "    </tr>\n",
       "    <tr>\n",
       "      <th>2</th>\n",
       "      <td>AF</td>\n",
       "      <td>33.939110</td>\n",
       "      <td>67.709953</td>\n",
       "      <td>Afghanistan</td>\n",
       "    </tr>\n",
       "    <tr>\n",
       "      <th>3</th>\n",
       "      <td>AG</td>\n",
       "      <td>17.060816</td>\n",
       "      <td>-61.796428</td>\n",
       "      <td>Antigua and Barbuda</td>\n",
       "    </tr>\n",
       "    <tr>\n",
       "      <th>4</th>\n",
       "      <td>AI</td>\n",
       "      <td>18.220554</td>\n",
       "      <td>-63.068615</td>\n",
       "      <td>Anguilla</td>\n",
       "    </tr>\n",
       "    <tr>\n",
       "      <th>5</th>\n",
       "      <td>AL</td>\n",
       "      <td>41.153332</td>\n",
       "      <td>20.168331</td>\n",
       "      <td>Albania</td>\n",
       "    </tr>\n",
       "    <tr>\n",
       "      <th>6</th>\n",
       "      <td>AM</td>\n",
       "      <td>40.069099</td>\n",
       "      <td>45.038189</td>\n",
       "      <td>Armenia</td>\n",
       "    </tr>\n",
       "    <tr>\n",
       "      <th>7</th>\n",
       "      <td>AN</td>\n",
       "      <td>12.226079</td>\n",
       "      <td>-69.060087</td>\n",
       "      <td>Netherlands Antilles</td>\n",
       "    </tr>\n",
       "    <tr>\n",
       "      <th>8</th>\n",
       "      <td>AO</td>\n",
       "      <td>-11.202692</td>\n",
       "      <td>17.873887</td>\n",
       "      <td>Angola</td>\n",
       "    </tr>\n",
       "    <tr>\n",
       "      <th>9</th>\n",
       "      <td>AQ</td>\n",
       "      <td>-75.250973</td>\n",
       "      <td>-0.071389</td>\n",
       "      <td>Antarctica</td>\n",
       "    </tr>\n",
       "  </tbody>\n",
       "</table>\n",
       "</div>"
      ],
      "text/plain": [
       "  country   latitude  longitude                  name\n",
       "0      AD  42.546245   1.601554               Andorra\n",
       "1      AE  23.424076  53.847818  United Arab Emirates\n",
       "2      AF  33.939110  67.709953           Afghanistan\n",
       "3      AG  17.060816 -61.796428   Antigua and Barbuda\n",
       "4      AI  18.220554 -63.068615              Anguilla\n",
       "5      AL  41.153332  20.168331               Albania\n",
       "6      AM  40.069099  45.038189               Armenia\n",
       "7      AN  12.226079 -69.060087  Netherlands Antilles\n",
       "8      AO -11.202692  17.873887                Angola\n",
       "9      AQ -75.250973  -0.071389            Antarctica"
      ]
     },
     "execution_count": 344,
     "metadata": {},
     "output_type": "execute_result"
    }
   ],
   "source": [
    "data = pd.read_csv('zipcodes_coordinates.csv', engine='python', skipfooter=3)\n",
    "data.head(10)"
   ]
  },
  {
   "cell_type": "code",
   "execution_count": 345,
   "id": "5a08bc23",
   "metadata": {},
   "outputs": [],
   "source": [
    "data_nombre = data[data.name.isin(unique_zipcodes)]\n",
    "data_paises = data[data.country.isin(unique_zipcodes)]\n",
    "all_data =pd.concat([data_nombre,data_paises]).drop_duplicates().sort_values('name')"
   ]
  },
  {
   "cell_type": "code",
   "execution_count": 346,
   "id": "8accca21",
   "metadata": {},
   "outputs": [
    {
     "data": {
      "image/png": "[encoded data removed]",
      "text/plain": [
       "<Figure size 1296x864 with 1 Axes>"
      ]
     },
     "metadata": {
      "needs_background": "light"
     },
     "output_type": "display_data"
    }
   ],
   "source": [
    "import matplotlib.pyplot as plt\n",
    "plt.scatter(all_data.longitude, all_data.latitude, s=50, c=all_data.latitude)\n",
    "\n",
    "\n",
    "ard = dict(arrowstyle=\"->\")\n",
    "plt.annotate('USA', xy = (-95.712891, 37.09024), \n",
    "               xytext = (-95.712891, 40), arrowprops = ard)\n",
    "plt.annotate('UK', xy = (31.16558,48.379433), \n",
    "               xytext = (31.16558,51), arrowprops= ard)\n",
    "plt.annotate('BRASIL', xy = (-51.92528, -14.235004), \n",
    "               xytext = (-51.92528, -11), arrowprops= ard)\n",
    "plt.annotate('CHINA', xy = (104.195397, 35.86166), \n",
    "               xytext = (104.195397, 39), arrowprops= ard)\n",
    "plt.annotate('AUSTRALIA', xy = (133.775136, -25.274398), \n",
    "               xytext = (133.775136, -22), arrowprops= ard)\n",
    "plt.annotate('NORWAY', xy = (8.468946, 60.472024), \n",
    "               xytext = (8.468946, 63), arrowprops= ard)\n",
    "\n",
    "params = plt.gcf()\n",
    "plSize = params.get_size_inches()\n",
    "params.set_size_inches( (plSize[0] * 3, plSize[1] * 3) )"
   ]
  },
  {
   "cell_type": "code",
   "execution_count": null,
   "id": "7e263289",
   "metadata": {},
   "outputs": [],
   "source": []
  },
  {
   "cell_type": "code",
   "execution_count": null,
   "id": "7d66cf79",
   "metadata": {},
   "outputs": [],
   "source": []
  },
  {
   "cell_type": "code",
   "execution_count": null,
   "id": "cb2b4f24",
   "metadata": {},
   "outputs": [],
   "source": []
  }
 ],
 "metadata": {
  "kernelspec": {
   "display_name": "Python 3 (ipykernel)",
   "language": "python",
   "name": "python3"
  },
  "language_info": {
   "codemirror_mode": {
    "name": "ipython",
    "version": 3
   },
   "file_extension": ".py",
   "mimetype": "text/x-python",
   "name": "python",
   "nbconvert_exporter": "python",
   "pygments_lexer": "ipython3",
   "version": "3.9.7"
  }
 },
 "nbformat": 4,
 "nbformat_minor": 5
}
