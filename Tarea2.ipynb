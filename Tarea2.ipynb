{
 "cells": [
  {
   "cell_type": "markdown",
   "id": "56575fac",
   "metadata": {},
   "source": [
    "TAREA 2\n",
    "\n",
    "Mishelle Culcay\n",
    "\n",
    "Ejercicio 1\n",
    "Basado en las sesiones de Visualización de datos y Expresiones resulares. Realice una adaptación de la solución del MAP OF SCIENCE. Se requiere dos adaptaciones para resolver esta actividad:\n",
    "\n",
    "Buscar bibliografía de un tema de interés propio en la Página Web de PubMed,\n",
    "Realizar el minado de autores por país (en el ejemplo se encuentra realziado por las ciudades de USA).\n",
    "Para asignar las ubicación geográfica de los centroides de cada país (latitud y longitud), utilice la tabla Ubicación Geográfica de Países - Google Developer. Así como en la solución de referencia se señalan varias ciudades seleccionadas de USA.\n",
    "En su resolución señale/resalte a los siguientes países: USA, UK, Brazil, China, Australia, Norway.\n",
    "Cargue su cuaderno de Jupyter en GitHub, asegurandose de lo siguiente:\n",
    "\n",
    "En el documento se puede ver con claridad el Mapa de Ciencia de su tema de interés.\n",
    "La figura tiene etiquetas adecuadas en los ejes de la visualización.\n",
    "Se tiene al menos tres controles de la versión (3 commit con mensajes adecuados sobre la versión)"
   ]
  },
  {
   "cell_type": "code",
   "execution_count": 323,
   "id": "66a1f24d",
   "metadata": {},
   "outputs": [],
   "source": [
    "#Descargar librerias\n",
    "import numpy as np\n",
    "import matplotlib.pyplot as plt\n",
    "import matplotlib.mlab as mlab\n",
    "import math \n",
    "import seaborn as sns\n",
    "import pandas as pd"
   ]
  },
  {
   "cell_type": "code",
   "execution_count": 324,
   "id": "69caa1ba",
   "metadata": {},
   "outputs": [],
   "source": [
    "import re\n",
    "import csv"
   ]
  },
  {
   "cell_type": "code",
   "execution_count": 325,
   "id": "d814100f",
   "metadata": {},
   "outputs": [],
   "source": [
    "with open(\"pubmed-coloncance-set.txt\", encoding= 'utf-8') as f:\n",
    "    datos = f.read()"
   ]
  },
  {
   "cell_type": "code",
   "execution_count": 326,
   "id": "260bb892",
   "metadata": {},
   "outputs": [],
   "source": [
    "datos = re.sub(r'\\n\\s{6}', ' ', datos)\n",
    "dat= re.findall (r\"\\,\\s[A-zA-Z]{2,13}\\.\", datos)"
   ]
  },
  {
   "cell_type": "code",
   "execution_count": 327,
   "id": "3bb5a968",
   "metadata": {},
   "outputs": [],
   "source": [
    "zipcodes = re.findall (r\"\\,\\s[A-zA-Z]{2,13}\\.\", datos)"
   ]
  },
  {
   "cell_type": "code",
   "execution_count": 328,
   "id": "fb3bca96",
   "metadata": {},
   "outputs": [],
   "source": [
    "unique_zipcodes = list(set(zipcodes))"
   ]
  },
  {
   "cell_type": "code",
   "execution_count": 329,
   "id": "99763a64",
   "metadata": {},
   "outputs": [],
   "source": [
    "unique_zipcodes.sort()"
   ]
  },
  {
   "cell_type": "code",
   "execution_count": 330,
   "id": "b6dc845f",
   "metadata": {},
   "outputs": [
    {
     "name": "stdout",
     "output_type": "stream",
     "text": [
      "[', AL.', ', AZ.', ', Aichi.', ', Argentina.', ', Arizona.', ', Aurora.', ', Australia.', ', Austria.', ', Av.', ', Aviano.', ', Az.', ', Baltimore.', ', Bangladesh.', ', Basel.', ', Belgium.', ', Biella.', ', Boston.', ', Brazil.', ', Brazil].', ', Bulgaria.', ', CA.', ', Calif.', ', California.', ', Canada.', ', Catania.', ', Charleston.', ', Chile.', ', China.', ', Co.', ', Colombia.', ', Colorado.', ', Connecticut.', ', Copenhagen.', ', Cra.', ', Croatia.', ', Cuba.', ', Cyprus.', ', Delaware.', ', Denmark.', ', Denver.', ', Dept.', ', Deutschland.', ', Dr.', ', Dysplasia.', ', Ecuador.', ', Edinburgh.', ', Egypt.', ', Eindhoven.', ', Estonia.', ', FL.', ', Fac.', ', Finland.', ', Florida.', ', France.', ', Franz.', ', Fukuoka.', ', Gainesville.', ', Georgia.', ', Germany.', ', Gifu.', ', Greece.', ', HI.', ', Hawaii.', ', Hiroshima.', ', Hokkaido.', ', Hubei.', ', Hungary.', ', Hyogo.', ', IA.', ', IN.', ', IND.', ', Iceland.', ', Ill.', ', Illinois.', ', Inc.', ', India.', ', Indonesia.', ', Iran.', ', Iraq.', ', Ireland.', ', Islamabad.', ', Israel.', ', Italia.', ', Italy.', ', Japan.', ', Jena.', ', Jl.', ', Jr.', ', KSA.', ', KY.', ', Kagamihara.', ', Kanagawa.', ', Kawasaki.', ', Kenya.', ', Kisarazu.', ', Korea.', ', Kunming.', ', Kuwait.', ', Kyoto.', ', LLC.', ', Lebanon.', ', Liban.', ', Lithuania.', ', London.', ', Lorca.', ', Louisiana.', ', Ltd.', ', MA.', ', MD.', ', MN.', ', MPH.', ', Madison.', ', Malaysia.', ', Manitoba.', ', Maryland.', ', Mass.', ', Massachusetts.', ', Md.', ', Medicum.', ', Mexico.', ', Michigan.', ', Minn.', ', Minnesota.', ', Missouri.', ', Modena.', ', Moorenstr.', ', Morocco.', ', NGA.', ', NH.', ', NO.', ', NY.', ', Nepal.', ', Netherlands.', ', Newark.', ', Nigeria.', ', Niigata.', ', Nijmegen.', ', No.', ', Norway.', ', OH.', ', ON.', ', OR.', ', Ohio.', ', Oman.', ', Ont.', ', Oregon.', ', Osaka.', ', Oslo.', ', PA.', ', PAK.', ', PR.', ', Padova.', ', Pakistan.', ', Parma.', ', Pennsylvania.', ', Petrolina.', ', PhD.', ', Philadelphia.', ', Pittsburgh.', ', Poland.', ', Portugal.', ', Pt.', ', Qatar.', ', RI.', ', ROC.', ', Rimini.', ', Rm.', ', Rochester.', ', Romania.', ', Rome.', ', Russia.', ', SAU.', ', SP.', ', Saitama.', ', Sapporo.', ', Sdr.', ', Serbia.', ', Sergas.', ', Sevilla.', ', Shenyang.', ', Shizuoka.', ', Singapore.', ', Slovenia.', ', Spain.', ', Srbija.', ', St.', ', Sweden.', ', Switzerland.', ', TX.', ', Taiwan.', ', Tampa.', ', Tennessee.', ', Texas.', ', Thailand.', ', Tochigi.', ', Tokyo.', ', Toyoake.', ', Trogerstr.', ', Trondheim.', ', Tunisie.', ', Turkey.', ', UAE.', ', UK.', ', USA.', ', UT.', ', Ukraine.', ', Univ.', ', Uruguay.', ', Utah.', ', VA.', ', Varese.', ', Vermont.', ', Vic.', ', Victoria.', ', Vietnam.', ', Virginia.', ', WA.', ', Waldstr.', ', Washington.', ', Weinheim.', ', Wisconsin.', ', Yulin.', ', age.', ', analyzed.', ', and.', ', etc.', ', function.', ', however.', ', ibs.', ', ie.', ', independently.', ', malczewska.', ', no.', ', prognosis.', ', respectively.', ', respectively].', ', silymarin.', ', studies.', ', tel.', ', ul.', ', unidentified.', ', viz.', ', vs.', ', worldwide.']\n"
     ]
    }
   ],
   "source": [
    "a = unique_zipcodes\n",
    "print(a)"
   ]
  },
  {
   "cell_type": "code",
   "execution_count": 331,
   "id": "7dcb7271",
   "metadata": {},
   "outputs": [
    {
     "data": {
      "text/plain": [
       "[', Argentina.',\n",
       " ', Arizona.',\n",
       " ', Aurora.',\n",
       " ', Australia.',\n",
       " ', Austria.',\n",
       " ', Aviano.',\n",
       " ', Baltimore.',\n",
       " ', Bangladesh.',\n",
       " ', Basel.',\n",
       " ', Belgium.',\n",
       " ', Biella.',\n",
       " ', Boston.',\n",
       " ', Brazil.',\n",
       " ', Brazil].',\n",
       " ', Bulgaria.',\n",
       " ', California.',\n",
       " ', Canada.',\n",
       " ', Catania.',\n",
       " ', Charleston.',\n",
       " ', Chile.']"
      ]
     },
     "execution_count": 331,
     "metadata": {},
     "output_type": "execute_result"
    }
   ],
   "source": [
    "b = unique_zipcodes\n",
    "b.remove(', AL.')\n",
    "b.remove(', Aichi.')\n",
    "b.remove(', AZ.')\n",
    "b.remove(', Av.')\n",
    "b.remove(', Dept.')\n",
    "b.remove(', Co.')\n",
    "b.remove(', Calif.')\n",
    "b.remove(', OH.')\n",
    "b.remove(', ON.')\n",
    "b.remove(', OR.')\n",
    "b.remove(', RI.')\n",
    "b.remove(', ROC.')\n",
    "b.remove(', Dr.')\n",
    "b.remove(', Az.')\n",
    "b.remove(', CA.')\n",
    "b.remove(', Cra.')\n",
    "unique_zipcodes[:20]"
   ]
  },
  {
   "cell_type": "code",
   "execution_count": 332,
   "id": "29d30b65",
   "metadata": {},
   "outputs": [
    {
     "data": {
      "text/plain": [
       "['Argentina',\n",
       " 'Arizona',\n",
       " 'Aurora',\n",
       " 'Australia',\n",
       " 'Austria',\n",
       " 'Aviano',\n",
       " 'Baltimore',\n",
       " 'Bangladesh',\n",
       " 'Belgium',\n",
       " 'Biella',\n",
       " 'Boston',\n",
       " 'Brazil',\n",
       " 'Brazil]',\n",
       " 'Bulgaria',\n",
       " 'California',\n",
       " 'Canada',\n",
       " 'Catania',\n",
       " 'Charleston',\n",
       " 'Chile',\n",
       " 'China']"
      ]
     },
     "execution_count": 332,
     "metadata": {},
     "output_type": "execute_result"
    }
   ],
   "source": [
    "c = \"\".join(b)\n",
    "d = c.split(\", \")\n",
    "e = \"\".join(d)\n",
    "f = e.split(\".\")\n",
    "f.pop(8)\n",
    "unique_zipcodes = f\n",
    "unique_zipcodes[:20]"
   ]
  },
  {
   "cell_type": "code",
   "execution_count": 333,
   "id": "34d81198",
   "metadata": {},
   "outputs": [
    {
     "data": {
      "text/plain": [
       "228"
      ]
     },
     "execution_count": 333,
     "metadata": {},
     "output_type": "execute_result"
    }
   ],
   "source": [
    "len(unique_zipcodes)"
   ]
  },
  {
   "cell_type": "code",
   "execution_count": 341,
   "id": "f5b9045c",
   "metadata": {
    "scrolled": true
   },
   "outputs": [
    {
     "ename": "AttributeError",
     "evalue": "'dict' object has no attribute 'name'",
     "output_type": "error",
     "traceback": [
      "\u001b[1;31m---------------------------------------------------------------------------\u001b[0m",
      "\u001b[1;31mAttributeError\u001b[0m                            Traceback (most recent call last)",
      "\u001b[1;32m~\\AppData\\Local\\Temp/ipykernel_12056/959008674.py\u001b[0m in \u001b[0;36m<module>\u001b[1;34m\u001b[0m\n\u001b[0;32m      2\u001b[0m \u001b[1;32mwith\u001b[0m \u001b[0mopen\u001b[0m\u001b[1;33m(\u001b[0m\u001b[1;34m'zipcodes_coordinates.txt'\u001b[0m\u001b[1;33m)\u001b[0m \u001b[1;32mas\u001b[0m \u001b[0mf\u001b[0m\u001b[1;33m:\u001b[0m\u001b[1;33m\u001b[0m\u001b[1;33m\u001b[0m\u001b[0m\n\u001b[0;32m      3\u001b[0m     \u001b[0mcsvr\u001b[0m \u001b[1;33m=\u001b[0m \u001b[0mcsv\u001b[0m\u001b[1;33m.\u001b[0m\u001b[0mDictReader\u001b[0m\u001b[1;33m(\u001b[0m\u001b[0mf\u001b[0m\u001b[1;33m)\u001b[0m\u001b[1;33m\u001b[0m\u001b[1;33m\u001b[0m\u001b[0m\n\u001b[1;32m----> 4\u001b[1;33m \u001b[0mdata_nombre\u001b[0m \u001b[1;33m=\u001b[0m \u001b[0mdata\u001b[0m\u001b[1;33m[\u001b[0m\u001b[0mdata\u001b[0m\u001b[1;33m.\u001b[0m\u001b[0mname\u001b[0m\u001b[1;33m.\u001b[0m\u001b[0misin\u001b[0m\u001b[1;33m(\u001b[0m\u001b[0munique_zipcodes\u001b[0m\u001b[1;33m)\u001b[0m\u001b[1;33m]\u001b[0m\u001b[1;33m\u001b[0m\u001b[1;33m\u001b[0m\u001b[0m\n\u001b[0m\u001b[0;32m      5\u001b[0m \u001b[0mdata_paises\u001b[0m \u001b[1;33m=\u001b[0m \u001b[0mdata\u001b[0m\u001b[1;33m[\u001b[0m\u001b[0mdata\u001b[0m\u001b[1;33m.\u001b[0m\u001b[0mcountry\u001b[0m\u001b[1;33m.\u001b[0m\u001b[0misin\u001b[0m\u001b[1;33m(\u001b[0m\u001b[0munique_zipcodes\u001b[0m\u001b[1;33m)\u001b[0m\u001b[1;33m]\u001b[0m\u001b[1;33m\u001b[0m\u001b[1;33m\u001b[0m\u001b[0m\n\u001b[0;32m      6\u001b[0m \u001b[0mall_data\u001b[0m \u001b[1;33m=\u001b[0m\u001b[0mpd\u001b[0m\u001b[1;33m.\u001b[0m\u001b[0mconcat\u001b[0m\u001b[1;33m(\u001b[0m\u001b[1;33m[\u001b[0m\u001b[0mdata_nombre\u001b[0m\u001b[1;33m,\u001b[0m\u001b[0mdata_paises\u001b[0m\u001b[1;33m]\u001b[0m\u001b[1;33m)\u001b[0m\u001b[1;33m.\u001b[0m\u001b[0mdrop_duplicates\u001b[0m\u001b[1;33m(\u001b[0m\u001b[1;33m)\u001b[0m\u001b[1;33m.\u001b[0m\u001b[0msort_values\u001b[0m\u001b[1;33m(\u001b[0m\u001b[1;34m'name'\u001b[0m\u001b[1;33m)\u001b[0m\u001b[1;33m\u001b[0m\u001b[1;33m\u001b[0m\u001b[0m\n",
      "\u001b[1;31mAttributeError\u001b[0m: 'dict' object has no attribute 'name'"
     ]
    }
   ],
   "source": []
  },
  {
   "cell_type": "code",
   "execution_count": 342,
   "id": "735adb36",
   "metadata": {},
   "outputs": [],
   "source": [
    "zip_code = []\n",
    "zip_long = []\n",
    "zip_lat = []\n",
    "zip_count = []"
   ]
  },
  {
   "cell_type": "code",
   "execution_count": 179,
   "id": "0900cf4e",
   "metadata": {},
   "outputs": [],
   "source": [
    "for z in unique_zipcodes:\n",
    "    if z in zip_coordinates.keys():\n",
    "        zip_code.append(z)\n",
    "        zip_lat.append(zip_coordinates[z][0])\n",
    "        zip_long.append(zip_coordinates[z][1])\n",
    "        zip_count.append(zipcodes.count(z))"
   ]
  },
  {
   "cell_type": "code",
   "execution_count": null,
   "id": "c614250e",
   "metadata": {},
   "outputs": [],
   "source": []
  },
  {
   "cell_type": "code",
   "execution_count": null,
   "id": "e1c607a6",
   "metadata": {},
   "outputs": [],
   "source": []
  },
  {
   "cell_type": "code",
   "execution_count": null,
   "id": "7dfa0418",
   "metadata": {},
   "outputs": [],
   "source": []
  }
 ],
 "metadata": {
  "kernelspec": {
   "display_name": "Python 3 (ipykernel)",
   "language": "python",
   "name": "python3"
  },
  "language_info": {
   "codemirror_mode": {
    "name": "ipython",
    "version": 3
   },
   "file_extension": ".py",
   "mimetype": "text/x-python",
   "name": "python",
   "nbconvert_exporter": "python",
   "pygments_lexer": "ipython3",
   "version": "3.9.7"
  }
 },
 "nbformat": 4,
 "nbformat_minor": 5
}
